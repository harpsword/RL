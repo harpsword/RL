{
 "cells": [
  {
   "cell_type": "code",
   "execution_count": 1,
   "metadata": {},
   "outputs": [],
   "source": [
    "import os\n",
    "import time\n",
    "import json\n",
    "import click\n",
    "import gym\n",
    "import logging\n",
    "import torch\n",
    "import numpy as np\n",
    "import torch.nn.functional as F\n",
    "\n",
    "from policy import Q_Net, process\n",
    "from data import Data\n",
    "\n",
    "LogFolder = os.path.join(os.getcwd(), 'log')\n",
    "FRAME_SKIP = 4\n",
    "GAMMA = 0.9\n",
    "init_epsilon = 0.5\n",
    "decay_every_timestep = 100000\n",
    "epsilon_decay = 0.5\n",
    "final_epsilon = 0.1\n",
    "\n",
    "# training\n",
    "batchsize = 32\n",
    "\n",
    "# experience replay storage\n",
    "D = Data()"
   ]
  },
  {
   "cell_type": "code",
   "execution_count": 5,
   "metadata": {},
   "outputs": [],
   "source": [
    "with open('assault.json', 'r') as f:\n",
    "    cfg = json.loads(f.read())\n",
    "env = gym.make(cfg['game']['gamename'])\n",
    "model = Q_Net(env.action_space.n)\n",
    "  \n",
    "action_n = env.action_space.n\n",
    "env.frameskip = 1\n",
    "epsilon = init_epsilon \n",
    "optimizer = torch.optim.RMSprop(model.parameters())\n",
    "\n",
    "obs = env.reset()\n",
    "obs_list = [obs, obs, obs, obs]\n",
    "state_now = process(obs_list)\n",
    "\n",
    "break_is_true = False\n",
    "for step in range(cfg['game']['timesteplimit']):\n",
    "    if np.random.rand() <= epsilon:\n",
    "        action = np.random.randint(env.action_space.n)\n",
    "    else:\n",
    "        action = model(state_now).argmax().item()\n",
    "    obs_list = []\n",
    "    ep_r = 0\n",
    "    for i in range(FRAME_SKIP):\n",
    "        obs, reward, done, _ = env.step(action)\n",
    "        obs_list.append(obs)\n",
    "        ep_r += reward\n",
    "        if done:\n",
    "            break_is_true = True\n",
    "    while len(obs_list) < FRAME_SKIP:\n",
    "        # when len(obs_list) < 4, done=True\n",
    "        # like start state obs_list, stack more end state together\n",
    "        obs_list.append(obs_list[-1])\n",
    "    sequence = [state_now, action, ep_r, process(obs_list), done]\n",
    "    D.push(sequence)\n",
    "\n",
    "    # sample data\n",
    "    # train model\n",
    "    if len(D.data) >= batchsize*2:\n",
    "        break_is_true = True\n",
    "\n",
    "    if break_is_true:\n",
    "        break\n"
   ]
  },
  {
   "cell_type": "code",
   "execution_count": 6,
   "metadata": {},
   "outputs": [
    {
     "data": {
      "text/plain": [
       "64"
      ]
     },
     "execution_count": 6,
     "metadata": {},
     "output_type": "execute_result"
    }
   ],
   "source": [
    "len(D.data)"
   ]
  },
  {
   "cell_type": "code",
   "execution_count": 27,
   "metadata": {},
   "outputs": [],
   "source": [
    "import random\n",
    "selected_data = random.sample(D.data, batchsize)\n",
    "state_batch = [batch[0] for batch in selected_data]\n",
    "target_q_value = None\n",
    "for i in range(batchsize):\n",
    "    state_ = selected_data[i][0]\n",
    "    action_ = selected_data[i][1]\n",
    "    reward_ = selected_data[i][2]\n",
    "    next_state_ = selected_data[i][3]\n",
    "    done_ = selected_data[i][4]\n",
    "    q_eval = model(state_)\n",
    "    if target_q_value is None:\n",
    "        target_q_value = q_eval\n",
    "    else:\n",
    "        target_q_value = torch.cat((target_q_value, q_eval))\n",
    "#     更新最新的一行就行\n",
    "#     print(target_q_value[-1][action_])\n",
    "    if done_:\n",
    "        target_q_value[-1][action_] = reward_\n",
    "    else:\n",
    "        target_q_value[-1][action_] = reward_ + GAMMA*model(next_state_).max().item()"
   ]
  },
  {
   "cell_type": "code",
   "execution_count": null,
   "metadata": {},
   "outputs": [],
   "source": []
  },
  {
   "cell_type": "code",
   "execution_count": 31,
   "metadata": {},
   "outputs": [],
   "source": [
    "# test training model\n",
    "import torch.utils.data as Data\n",
    "x_train = torch.cat(state_batch)\n",
    "y_train = target_q_value\n",
    "# dataset = Data.TensorDataset(state_batch, target_q_value)\n",
    "optimizer.zero_grad()\n",
    "predicted_q_value = model(x_train)\n",
    "loss = F.mse_loss(predicted_q_value, y_train)\n",
    "loss.backward()\n",
    "optimizer.step()"
   ]
  },
  {
   "cell_type": "code",
   "execution_count": null,
   "metadata": {},
   "outputs": [],
   "source": []
  }
 ],
 "metadata": {
  "kernelspec": {
   "display_name": "Python 3",
   "language": "python",
   "name": "python3"
  },
  "language_info": {
   "codemirror_mode": {
    "name": "ipython",
    "version": 3
   },
   "file_extension": ".py",
   "mimetype": "text/x-python",
   "name": "python",
   "nbconvert_exporter": "python",
   "pygments_lexer": "ipython3",
   "version": "3.7.3"
  }
 },
 "nbformat": 4,
 "nbformat_minor": 2
}
